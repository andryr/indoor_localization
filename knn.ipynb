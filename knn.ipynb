{
 "cells": [
  {
   "cell_type": "markdown",
   "metadata": {},
   "source": [
    "We load the data"
   ]
  },
  {
   "cell_type": "code",
   "execution_count": 11,
   "metadata": {
    "_cell_guid": "b1076dfc-b9ad-4769-8c92-a6c4dae69d19",
    "_uuid": "8f2839f25d086af736a60e9eeb907d3b93b6e0e5"
   },
   "outputs": [],
   "source": [
    "import pandas as pd\n",
    "\n",
    "whole_train_df = pd.read_csv('uji_wifi/UJIndoorLoc/trainingData.csv')\n",
    "test_df = pd.read_csv('uji_wifi/UJIndoorLoc/ValidationData.csv')"
   ]
  },
  {
   "cell_type": "markdown",
   "metadata": {},
   "source": [
    "Train/validation split"
   ]
  },
  {
   "cell_type": "code",
   "execution_count": 12,
   "metadata": {},
   "outputs": [
    {
     "name": "stdout",
     "output_type": "stream",
     "text": [
      "(15647, 529) (4290, 529)\n"
     ]
    }
   ],
   "source": [
    "train_mask = whole_train_df['USERID'] <= 13\n",
    "train_df = whole_train_df[train_mask]\n",
    "val_df = whole_train_df[~train_mask]\n",
    "print(train_df.shape, val_df.shape)"
   ]
  },
  {
   "cell_type": "markdown",
   "metadata": {},
   "source": [
    "Some data preparation"
   ]
  },
  {
   "cell_type": "code",
   "execution_count": 13,
   "metadata": {},
   "outputs": [],
   "source": [
    "import numpy as np\n",
    "\n",
    "train_X = train_df.iloc[:,0:520].to_numpy()\n",
    "train_building = train_df[\"BUILDINGID\"].to_numpy(dtype=np.int64)\n",
    "train_floor = train_df[\"FLOOR\"].to_numpy(dtype=np.int64)\n",
    "train_long = train_df[\"LONGITUDE\"].to_numpy()\n",
    "train_lat = train_df[\"LATITUDE\"].to_numpy()\n",
    "\n",
    "val_X = val_df.iloc[:,0:520].to_numpy()\n",
    "val_building = val_df[\"BUILDINGID\"].to_numpy(dtype=np.int64)\n",
    "val_floor = val_df[\"FLOOR\"].to_numpy(dtype=np.int64)\n",
    "val_long = val_df[\"LONGITUDE\"].to_numpy()\n",
    "val_lat = val_df[\"LATITUDE\"].to_numpy()\n",
    "\n",
    "test_X = test_df.iloc[:,0:520].to_numpy()\n",
    "test_building = test_df[\"BUILDINGID\"].to_numpy(dtype=np.int64)\n",
    "test_floor = test_df[\"FLOOR\"].to_numpy(dtype=np.int64)\n",
    "test_long = test_df[\"LONGITUDE\"].to_numpy()\n",
    "test_lat = test_df[\"LATITUDE\"].to_numpy()\n",
    "\n",
    "\n",
    "train_X[train_X == 100] = -110\n",
    "val_X[val_X == 100] = -110\n",
    "test_X[test_X == 100] = -110"
   ]
  },
  {
   "cell_type": "markdown",
   "metadata": {},
   "source": [
    "Evaluation metrics"
   ]
  },
  {
   "cell_type": "code",
   "execution_count": 14,
   "metadata": {},
   "outputs": [],
   "source": [
    "from sklearn.metrics import mean_squared_error\n",
    "\n",
    "\n",
    "def accuracy(pred_Y, true_Y):\n",
    "    return np.sum(pred_Y == true_Y)/len(true_Y)\n",
    "\n",
    "def distance_rmse(pred_long, pred_lat, true_long, true_lat):\n",
    "    sq_dist = (pred_long - true_long)**2 + (pred_lat - true_lat)**2\n",
    "    return np.sqrt(np.sum(sq_dist)/len(sq_dist))\n",
    "\n",
    "def dist_mean_error(pred_long, pred_lat, true_long, true_lat):\n",
    "    dist = np.sqrt((pred_long - true_long)**2 + (pred_lat - true_lat)**2)\n",
    "    return np.sum(dist)/len(pred_long)"
   ]
  },
  {
   "cell_type": "markdown",
   "metadata": {},
   "source": [
    "Training of the k-NN models for building and floor classification"
   ]
  },
  {
   "cell_type": "code",
   "execution_count": null,
   "metadata": {},
   "outputs": [],
   "source": [
    "from sklearn.neighbors import KNeighborsClassifier\n",
    "\n",
    "def knn_weight(d):\n",
    "    return 1/(d+0.000001)**2\n",
    "\n",
    "building_knn_clf = KNeighborsClassifier(n_neighbors=5,weights=knn_weight)\n",
    "floor_knn_clf = KNeighborsClassifier(n_neighbors=5,weights=knn_weight)\n",
    "\n",
    "building_knn_clf.fit(train_X, train_building)\n",
    "floor_knn_clf.fit(train_X, train_floor)"
   ]
  },
  {
   "cell_type": "markdown",
   "metadata": {},
   "source": [
    "Evaluation on the validation set"
   ]
  },
  {
   "cell_type": "code",
   "execution_count": 24,
   "metadata": {},
   "outputs": [
    {
     "name": "stdout",
     "output_type": "stream",
     "text": [
      "Val building accuracy :  0.9731934731934732\n",
      "Val floor accuracy :  0.9072261072261072\n"
     ]
    }
   ],
   "source": [
    "pred_building = building_knn_clf.predict(val_X)\n",
    "pred_floor = floor_knn_clf.predict(val_X)\n",
    "\n",
    "print('Val building accuracy : ', accuracy(pred_building, val_building))\n",
    "print('Val floor accuracy : ', accuracy(pred_floor, val_floor))"
   ]
  },
  {
   "cell_type": "markdown",
   "metadata": {},
   "source": [
    "Training of the k-NN models for longitude/latitude estimation"
   ]
  },
  {
   "cell_type": "code",
   "execution_count": 17,
   "metadata": {},
   "outputs": [
    {
     "data": {
      "text/plain": [
       "KNeighborsRegressor(n_neighbors=3,\n",
       "                    weights=<function knn_weight at 0x7efedaaec170>)"
      ]
     },
     "execution_count": 17,
     "metadata": {},
     "output_type": "execute_result"
    }
   ],
   "source": [
    "from sklearn.neighbors import KNeighborsRegressor\n",
    "\n",
    "long_knn_reg = KNeighborsRegressor(n_neighbors=3, weights=knn_weight)\n",
    "lat_knn_reg = KNeighborsRegressor(n_neighbors=3, weights=knn_weight)\n",
    "\n",
    "long_knn_reg.fit(train_X, train_long)\n",
    "lat_knn_reg.fit(train_X, train_lat)"
   ]
  },
  {
   "cell_type": "markdown",
   "metadata": {},
   "source": [
    "Evaluation on the validation set"
   ]
  },
  {
   "cell_type": "code",
   "execution_count": 18,
   "metadata": {},
   "outputs": [
    {
     "name": "stdout",
     "output_type": "stream",
     "text": [
      "Val longitude RMSE :  13.157371208395501\n",
      "Val latitude RMSE :  8.522246644395064\n",
      "Val distance RMSE :  15.676259279031392\n",
      "Val distance ME :  8.9558595722621\n"
     ]
    }
   ],
   "source": [
    "pred_long = long_knn_reg.predict(val_X)\n",
    "pred_lat = lat_knn_reg.predict(val_X)\n",
    "\n",
    "long_rmse = mean_squared_error(pred_long, val_long, squared=False)\n",
    "lat_rmse = mean_squared_error(pred_lat, val_lat, squared=False)\n",
    "dist_rmse = distance_rmse(pred_long, pred_lat, val_long, val_lat)\n",
    "dist_me = dist_mean_error(pred_long, pred_lat, val_long, val_lat)\n",
    "\n",
    "print('Val longitude RMSE : ', long_rmse)\n",
    "print('Val latitude RMSE : ', lat_rmse)\n",
    "print('Val distance RMSE : ', dist_rmse)\n",
    "print('Val distance ME : ', dist_me)"
   ]
  },
  {
   "cell_type": "markdown",
   "metadata": {},
   "source": [
    "Evaluation on the test set"
   ]
  },
  {
   "cell_type": "code",
   "execution_count": 19,
   "metadata": {},
   "outputs": [
    {
     "name": "stdout",
     "output_type": "stream",
     "text": [
      "Test building accuracy :  0.9954995499549955\n",
      "Test floor accuracy :  0.891989198919892\n"
     ]
    }
   ],
   "source": [
    "pred_building = building_knn_clf.predict(test_X)\n",
    "pred_floor = floor_knn_clf.predict(test_X)\n",
    "print('Test building accuracy : ', accuracy(pred_building, test_building))\n",
    "print('Test floor accuracy : ', accuracy(pred_floor, test_floor))"
   ]
  },
  {
   "cell_type": "code",
   "execution_count": 20,
   "metadata": {},
   "outputs": [
    {
     "name": "stdout",
     "output_type": "stream",
     "text": [
      "Test longitude RMSE :  12.278969871721623\n",
      "Test latitude RMSE :  10.25358185612303\n",
      "Test distance RMSE :  15.997157309686704\n",
      "Test distance ME :  9.25949772687459\n"
     ]
    }
   ],
   "source": [
    "pred_long = long_knn_reg.predict(test_X)\n",
    "pred_lat = lat_knn_reg.predict(test_X)\n",
    "\n",
    "long_rmse = mean_squared_error(pred_long, test_long, squared=False)\n",
    "lat_rmse = mean_squared_error(pred_lat, test_lat, squared=False)\n",
    "dist_rmse = distance_rmse(pred_long, pred_lat, test_long, test_lat)\n",
    "dist_me = dist_mean_error(pred_long, pred_lat, test_long, test_lat)\n",
    "\n",
    "\n",
    "print('Test longitude RMSE : ', long_rmse)\n",
    "print('Test latitude RMSE : ', lat_rmse)\n",
    "print('Test distance RMSE : ', dist_rmse)\n",
    "print('Test distance ME : ', dist_me)\n"
   ]
  }
 ],
 "metadata": {
  "kernelspec": {
   "display_name": "Python 3",
   "language": "python",
   "name": "python3"
  },
  "language_info": {
   "codemirror_mode": {
    "name": "ipython",
    "version": 3
   },
   "file_extension": ".py",
   "mimetype": "text/x-python",
   "name": "python",
   "nbconvert_exporter": "python",
   "pygments_lexer": "ipython3",
   "version": "3.8.8"
  }
 },
 "nbformat": 4,
 "nbformat_minor": 4
}
